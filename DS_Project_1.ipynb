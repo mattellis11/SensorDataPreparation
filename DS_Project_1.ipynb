{
 "cells": [
  {
   "cell_type": "markdown",
   "id": "f82092ca-1681-4f4f-83d2-eb055cb3f0fa",
   "metadata": {},
   "source": [
    "# Notebook by: Matt Ellis"
   ]
  },
  {
   "cell_type": "markdown",
   "id": "composed-generation",
   "metadata": {},
   "source": [
    "# Introduction to Data Science - Project #1 - Sensor Data Preparation"
   ]
  },
  {
   "cell_type": "markdown",
   "id": "structured-humanity",
   "metadata": {},
   "source": [
    "### File Input/Output Functions\n",
    "\n",
    "You may find the following function useful to read the data.  Feel free to write your own routine instead if you choose."
   ]
  },
  {
   "cell_type": "code",
   "execution_count": 42,
   "id": "closed-motor",
   "metadata": {},
   "outputs": [],
   "source": [
    "def read_list_from_file(filespec, conversion=float):\n",
    "    \"\"\"Return a list with each line of the input file as an element.\"\"\"\n",
    "    with open(filespec) as f:\n",
    "        # \"read\" does not provide conversion to types; it returns strings, so we need to convert the data\n",
    "        lines = list(map(conversion, f.read().splitlines()))\n",
    "    return(lines)"
   ]
  },
  {
   "cell_type": "markdown",
   "id": "established-familiar",
   "metadata": {},
   "source": [
    "## Problem Statement\n",
    "\n",
    "Vibranium is a very valuable element (at least in the Marvel universe).  A leading Vibranium producing country has recently discovered that it can effectively \"mine\" Vibrainium atoms from air.  One of the most skilled mining engineers has built prototype sensors for detecting Vibranium concentrations.\n",
    "\n",
    "The engineer has asked you to produce a predictor of Vibranium concentration (number of Vibranium atoms per billion air atoms) based upon air temperature in Celsius using preliminary data she has collected.\n",
    "\n",
    "Unfortunately, the sensors are prototypes.  As a result, the sensors are sometimes faulty.  You will have to adapt to the faulty data.  The sensor engineer, who clearly has significant domain expertise, will provide some guidance on dealing with sensor challenges."
   ]
  },
  {
   "cell_type": "markdown",
   "id": "continuous-midwest",
   "metadata": {},
   "source": [
    "## Acquiring Data\n",
    "\n",
    "The engineer has two files containing the sensor data.  One file, \"sensor.txt\" contains the sensor readings with a single reading per line in the file.\n",
    "\n",
    "The other file \"temperature.txt\" contains the Cesius temperature associated with the sensor reading.  \n",
    "Each line of the temperature file aligns with the corresponding line in the sensor file."
   ]
  },
  {
   "cell_type": "markdown",
   "id": "hundred-steps",
   "metadata": {},
   "source": [
    "### <span style=\"color:red\">Task</span>\n",
    "\n",
    "* Read the sensor data into a list.  \n",
    "* Read the temperature values into another list. \n",
    "\n",
    "Insert cells into this notebook here to show your work (do this for all the tasks in this notebook).  \n",
    "\n",
    "If needed, use your friend, The Internet, to look for ways to read data into a list in Python."
   ]
  },
  {
   "cell_type": "code",
   "execution_count": 43,
   "id": "99923da1-ae21-4d12-9ac1-c92ec0fc41f6",
   "metadata": {},
   "outputs": [],
   "source": [
    "sensor_data = read_list_from_file('sensor.txt')"
   ]
  },
  {
   "cell_type": "code",
   "execution_count": 44,
   "id": "52b4240d-8d6a-4c33-8842-66973685087b",
   "metadata": {},
   "outputs": [],
   "source": [
    "temperature_data = read_list_from_file('temperature.txt', int)"
   ]
  },
  {
   "cell_type": "markdown",
   "id": "polar-slope",
   "metadata": {},
   "source": [
    "### <span style=\"color:red\">Task</span>\n",
    "\n",
    "* Write a Python function to compute and print the following descriptive statistics for an input list.\n",
    "    - count\n",
    "    - min \n",
    "    - max\n",
    "    - mean\n",
    "    - sum\n",
    "    - mode\n",
    "    - median\n",
    "    - population standard deviation\n",
    "* Call your descriptive statistics function to report individually on the sensor data and the temperature data."
   ]
  },
  {
   "cell_type": "code",
   "execution_count": 45,
   "id": "4823cd81-f3f5-4785-a666-8c15111420d2",
   "metadata": {},
   "outputs": [],
   "source": [
    "import statistics"
   ]
  },
  {
   "cell_type": "code",
   "execution_count": 46,
   "id": "fc4341ca-939c-43de-99a1-177f1401be90",
   "metadata": {},
   "outputs": [],
   "source": [
    "def descriptive_stats(data):\n",
    "    print(f'The number of data points is {len(data)}.')\n",
    "    print(f'The minimum value in the data is {min(data)}.')\n",
    "    print(f'The maximum value in the data is {max(data)}.')\n",
    "    print(f'The mean of the data is {statistics.mean(data):.2f}.')\n",
    "    print(f'The sum of the data is {sum(data):.2f}.')\n",
    "    print(f'The mode of the data is {statistics.mode(data)}.')\n",
    "    print(f'The median of the data is {statistics.median(data)}.')\n",
    "    print(f'The population standard deviation of the data is {statistics.pstdev(data):.2f}.')"
   ]
  },
  {
   "cell_type": "code",
   "execution_count": 47,
   "id": "3f71cafa-6611-40a0-b111-0bc98cbde03a",
   "metadata": {},
   "outputs": [
    {
     "name": "stdout",
     "output_type": "stream",
     "text": [
      "The number of data points is 200.\n",
      "The minimum value in the data is -2103.8.\n",
      "The maximum value in the data is 2420.0.\n",
      "The mean of the data is 1175.62.\n",
      "The sum of the data is 235123.00.\n",
      "The mode of the data is 0.0.\n",
      "The median of the data is 1380.6.\n",
      "The population standard deviation of the data is 898.36.\n"
     ]
    }
   ],
   "source": [
    "# Call the descriptive statistics function for the sensor data\n",
    "descriptive_stats(sensor_data)"
   ]
  },
  {
   "cell_type": "code",
   "execution_count": 48,
   "id": "19afce2e-c940-426a-bb74-2d316aa2726b",
   "metadata": {},
   "outputs": [
    {
     "name": "stdout",
     "output_type": "stream",
     "text": [
      "The number of data points is 200.\n",
      "The minimum value in the data is -20.\n",
      "The maximum value in the data is 30.\n",
      "The mean of the data is 5.00.\n",
      "The sum of the data is 1000.00.\n",
      "The mode of the data is 20.\n",
      "The median of the data is 4.0.\n",
      "The population standard deviation of the data is 14.87.\n"
     ]
    }
   ],
   "source": [
    "# Call the descriptive statistics function for the temperature data.\n",
    "descriptive_stats(temperature_data)"
   ]
  },
  {
   "cell_type": "markdown",
   "id": "infinite-surprise",
   "metadata": {},
   "source": [
    "### <span style=\"color:red\">Task</span>\n",
    "\n",
    "* Write a Python function to compute and print the frequency of each value in an input list.\n",
    "* Call your frequency function to report individually on the sensor data and the temperature data.\n",
    "\n",
    "Hint: See Counter example from the collections module from Chapter 6 in the book."
   ]
  },
  {
   "cell_type": "code",
   "execution_count": 49,
   "id": "56e0d46c-07cc-4ea6-9f90-bcdce47d375a",
   "metadata": {},
   "outputs": [],
   "source": [
    "from collections import Counter"
   ]
  },
  {
   "cell_type": "code",
   "execution_count": 50,
   "id": "323d0103-f4fb-4127-9854-6b11ff18d33b",
   "metadata": {},
   "outputs": [],
   "source": [
    "def data_frequency(list_data):\n",
    "    counter = Counter(list_data)\n",
    "    print(f'{\"Data point\":<20}{\"Frequency\"}')\n",
    "    print(f'{\"*\" * 33}')\n",
    "    for data, count in counter.items():\n",
    "        print(f'{data:<20}{count}')"
   ]
  },
  {
   "cell_type": "code",
   "execution_count": 51,
   "id": "33428b2f-a4e0-4e2d-aa81-807b7d2e54b8",
   "metadata": {},
   "outputs": [
    {
     "name": "stdout",
     "output_type": "stream",
     "text": [
      "Data point          Frequency\n",
      "*********************************\n",
      "-1808.0             1\n",
      "1664.4              1\n",
      "1382.2              1\n",
      "2320.4              1\n",
      "1403.4              1\n",
      "1766.0              1\n",
      "-808.8              1\n",
      "1318.6              1\n",
      "-1707.4             1\n",
      "1171.2              1\n",
      "-1326.6             1\n",
      "1490.4              1\n",
      "-2103.8             1\n",
      "1025.0              1\n",
      "2103.4              1\n",
      "1883.4              1\n",
      "1428.4              1\n",
      "899.2               1\n",
      "899.0               1\n",
      "850.5999999999999   1\n",
      "1054.8              1\n",
      "0.0                 14\n",
      "1801.6              1\n",
      "-1554.2             1\n",
      "1250.0              1\n",
      "861.4000000000001   1\n",
      "2091.0              1\n",
      "1770.2              1\n",
      "2159.8              1\n",
      "1222.8              2\n",
      "1793.2              1\n",
      "1353.8              1\n",
      "1833.6              1\n",
      "1332.4              1\n",
      "991.4000000000001   1\n",
      "1243.0              1\n",
      "1879.6              1\n",
      "1709.0              1\n",
      "1886.8              1\n",
      "1201.4              1\n",
      "1200.2              1\n",
      "1400.4              1\n",
      "1615.8              1\n",
      "1412.6              1\n",
      "1826.6              1\n",
      "-1916.2             1\n",
      "1605.0              1\n",
      "1532.8              2\n",
      "1444.2              1\n",
      "1693.4              1\n",
      "-1652.4             1\n",
      "1426.6              1\n",
      "1573.2              1\n",
      "921.4000000000001   1\n",
      "1767.2              1\n",
      "1753.8              1\n",
      "1817.8              1\n",
      "-1070.4             1\n",
      "1428.8              1\n",
      "1575.0              1\n",
      "1699.0              1\n",
      "1339.6              1\n",
      "1379.0              1\n",
      "1491.8              1\n",
      "1193.6              1\n",
      "1252.2              1\n",
      "1120.4              1\n",
      "1363.0              1\n",
      "1238.8              1\n",
      "1525.4              1\n",
      "1410.8              1\n",
      "1635.8              1\n",
      "884.5999999999999   1\n",
      "726.0               1\n",
      "1317.2              1\n",
      "1040.8              1\n",
      "1094.4              1\n",
      "1135.8              1\n",
      "2183.0              1\n",
      "995.5999999999999   1\n",
      "1620.0              1\n",
      "1301.6              1\n",
      "1018.4000000000001  1\n",
      "1317.6              1\n",
      "1533.4              1\n",
      "1145.4              1\n",
      "2009.8              1\n",
      "1804.6              1\n",
      "1492.2              1\n",
      "1188.8              1\n",
      "1356.6              1\n",
      "1996.0              1\n",
      "1697.0              1\n",
      "-2055.8             1\n",
      "-1943.2             1\n",
      "1416.0              1\n",
      "1224.0              1\n",
      "1314.8              1\n",
      "2082.0              1\n",
      "1740.8              1\n",
      "1364.0              1\n",
      "904.8               1\n",
      "1406.6              1\n",
      "1586.0              1\n",
      "1851.8              1\n",
      "1772.8              1\n",
      "1052.6              1\n",
      "1228.8              1\n",
      "1080.4              1\n",
      "1796.0              1\n",
      "915.4000000000001   1\n",
      "-1325.8             1\n",
      "1460.6              1\n",
      "1848.2              1\n",
      "1442.0              1\n",
      "1203.6              1\n",
      "2018.2              1\n",
      "1448.2              1\n",
      "1817.0              1\n",
      "2155.2              1\n",
      "1177.8              1\n",
      "1039.2              1\n",
      "899.5999999999999   1\n",
      "1835.4              1\n",
      "1313.0              1\n",
      "1584.8              1\n",
      "1030.2              1\n",
      "1661.4              1\n",
      "1677.4              1\n",
      "1287.4              1\n",
      "2099.4              1\n",
      "1943.0              1\n",
      "1040.6              1\n",
      "1261.8              1\n",
      "1532.6              1\n",
      "2000.4              1\n",
      "1977.2              1\n",
      "1217.0              1\n",
      "1493.6              1\n",
      "670.5999999999999   1\n",
      "1275.8              1\n",
      "2112.0              1\n",
      "755.0               1\n",
      "2420.0              1\n",
      "1402.6              1\n",
      "1980.4              1\n",
      "1992.6              1\n",
      "1505.8              1\n",
      "1150.8              1\n",
      "1637.6              1\n",
      "1563.8              1\n",
      "1627.6              1\n",
      "1061.2              1\n",
      "978.0               1\n",
      "2231.6              1\n",
      "1419.2              1\n",
      "856.4000000000001   1\n",
      "1695.6              1\n",
      "1154.8              1\n",
      "1792.6              1\n",
      "1131.4              1\n",
      "2075.2              1\n",
      "1732.2              1\n",
      "1153.4              1\n",
      "1169.6              1\n",
      "1465.4              1\n",
      "-1453.0             1\n",
      "2046.8              1\n",
      "1316.0              1\n",
      "2161.2              1\n",
      "1928.2              1\n",
      "1520.2              1\n",
      "1853.4              1\n",
      "1891.6              1\n",
      "915.2               1\n",
      "1312.4              1\n",
      "1478.0              1\n",
      "1885.8              1\n",
      "1315.0              1\n",
      "1711.4              1\n",
      "1974.6              1\n",
      "784.8               1\n",
      "1728.6              1\n",
      "1714.6              1\n",
      "798.0               1\n"
     ]
    }
   ],
   "source": [
    "# Show the frequency of data in sensor data\n",
    "data_frequency(sensor_data)"
   ]
  },
  {
   "cell_type": "code",
   "execution_count": 52,
   "id": "701d18fe-5d05-406b-8067-5b59141cf748",
   "metadata": {},
   "outputs": [
    {
     "name": "stdout",
     "output_type": "stream",
     "text": [
      "Data point          Frequency\n",
      "*********************************\n",
      "20                  8\n",
      "-13                 5\n",
      "-19                 3\n",
      "27                  5\n",
      "-3                  8\n",
      "-5                  3\n",
      "-6                  8\n",
      "-12                 3\n",
      "-14                 5\n",
      "23                  6\n",
      "14                  6\n",
      "-15                 6\n",
      "17                  4\n",
      "7                   5\n",
      "-18                 4\n",
      "-7                  5\n",
      "12                  5\n",
      "18                  6\n",
      "15                  5\n",
      "-8                  3\n",
      "25                  3\n",
      "21                  5\n",
      "24                  4\n",
      "6                   1\n",
      "8                   1\n",
      "-20                 3\n",
      "28                  6\n",
      "-10                 7\n",
      "1                   3\n",
      "-11                 4\n",
      "4                   6\n",
      "2                   3\n",
      "-4                  5\n",
      "26                  5\n",
      "9                   6\n",
      "-2                  3\n",
      "19                  1\n",
      "3                   5\n",
      "16                  2\n",
      "-16                 4\n",
      "22                  2\n",
      "29                  4\n",
      "0                   3\n",
      "-17                 2\n",
      "5                   3\n",
      "11                  2\n",
      "30                  1\n",
      "13                  1\n",
      "-9                  1\n",
      "-1                  1\n"
     ]
    }
   ],
   "source": [
    "# Show the frequency of data in temperature data\n",
    "data_frequency(temperature_data)"
   ]
  },
  {
   "cell_type": "markdown",
   "id": "middle-estate",
   "metadata": {},
   "source": [
    "## Visualizing Data\n",
    "\n",
    "Let's take a look at the raw data we acquired from the engineer.  Show the sensor and temperature data that we read from the files."
   ]
  },
  {
   "cell_type": "markdown",
   "id": "innovative-morning",
   "metadata": {},
   "source": [
    "### <span style=\"color:red\">Task</span>\n",
    "\n",
    "* Write a Python function to draw a scatter plot.  \n",
    "* Plot the sensor data using the temperature as the x-axis and the sensor value as the y-access.\n",
    "* Label the x-axis as \"Temperature\" and the y-access as \"Sensor\".\n",
    "* Make the title of your plot \"Sensor by Temperature (Raw Data)\".\n",
    "\n",
    "You may find it useful to look at the plot examples in the \"regression_example\" notebook in the project folder.\n"
   ]
  },
  {
   "cell_type": "code",
   "execution_count": 53,
   "id": "4294c18f-4236-4023-9431-c5ab59028dc3",
   "metadata": {},
   "outputs": [],
   "source": [
    "# Import useful libraries\n",
    "import os\n",
    "import numpy as np\n",
    "import pandas as pd\n",
    "import sklearn.linear_model"
   ]
  },
  {
   "cell_type": "code",
   "execution_count": 54,
   "id": "495ba8da-0a57-4fc9-aade-394ada88caf4",
   "metadata": {},
   "outputs": [],
   "source": [
    "# To plot pretty figures...\n",
    "%matplotlib inline\n",
    "from matplotlib import pyplot as plt"
   ]
  },
  {
   "cell_type": "code",
   "execution_count": 55,
   "id": "61d737e4-1902-4445-a8b0-4811be4057d0",
   "metadata": {},
   "outputs": [],
   "source": [
    "def scatter_plot(list1, list2, title):\n",
    "    plt.scatter(list1, list2)\n",
    "    plt.xlabel('Temperature')\n",
    "    plt.ylabel('Sensor')\n",
    "    plt.title(title)"
   ]
  },
  {
   "cell_type": "code",
   "execution_count": 56,
   "id": "f873dcd8-7c07-47bc-81b8-d22ce4d35efb",
   "metadata": {},
   "outputs": [],
   "source": [
    "# Enlarge the graph\n",
    "plt.rcParams['figure.figsize'] = [12, 8]\n",
    "plt.rcParams['figure.dpi'] = 100"
   ]
  },
  {
   "cell_type": "code",
   "execution_count": 57,
   "id": "7293752a-85b3-4a27-90c2-4db48c3b89b5",
   "metadata": {},
   "outputs": [
    {
     "data": {
      "image/png": "[encoded data removed]",
      "text/plain": [
       "<Figure size 1200x800 with 1 Axes>"
      ]
     },
     "metadata": {
      "needs_background": "light"
     },
     "output_type": "display_data"
    }
   ],
   "source": [
    "# Plot the sensor data using the temperature as the x-axis and the sensor value as the y-acess\n",
    "scatter_plot(temperature_data, sensor_data, 'Sensor by Temperature (Raw Data)')"
   ]
  },
  {
   "cell_type": "markdown",
   "id": "ecological-abraham",
   "metadata": {},
   "source": [
    "### <span style=\"color:red\">Task</span>\n",
    "\n",
    "* Write a Python function to draw a bar plot.  \n",
    "* Plot the frequency of temperature values as a bar plot with an appropriate title.\n",
    "* Plot the frequency of sensor values as a bar plot with an appropriate title.\n",
    "\n",
    "You may find it useful to use your friend, The Interent, to look at the information about mapplotlib bar plots."
   ]
  },
  {
   "cell_type": "code",
   "execution_count": 58,
   "id": "72a6bb14-15c9-4299-b8fd-a532f7b63f21",
   "metadata": {},
   "outputs": [],
   "source": [
    "def freq_plot(list_data, plot_title):\n",
    "    x = Counter(list_data)\n",
    "    plt.bar(x.keys(), x.values())\n",
    "    plt.title(plot_title)\n",
    "    plt.ylabel('Frequency')\n",
    "    plt.xlabel('Value')\n",
    "    plt.show()"
   ]
  },
  {
   "cell_type": "code",
   "execution_count": 59,
   "id": "1200e16f-b3dc-4be9-b900-70f48fa73abe",
   "metadata": {},
   "outputs": [
    {
     "data": {
      "image/png": "[encoded data removed]",
      "text/plain": [
       "<Figure size 1200x800 with 1 Axes>"
      ]
     },
     "metadata": {
      "needs_background": "light"
     },
     "output_type": "display_data"
    }
   ],
   "source": [
    "# Plot the frequency of temperature values as a bar plot\n",
    "freq_plot(temperature_data, 'Temperature Frequency Bar Chart')"
   ]
  },
  {
   "cell_type": "code",
   "execution_count": 60,
   "id": "cb95d489-ec53-4657-a596-768dcf38564e",
   "metadata": {},
   "outputs": [
    {
     "data": {
      "image/png": "[encoded data removed]",
      "text/plain": [
       "<Figure size 1200x800 with 1 Axes>"
      ]
     },
     "metadata": {
      "needs_background": "light"
     },
     "output_type": "display_data"
    }
   ],
   "source": [
    "# Plot the frequency of sensor values as a bar plot\n",
    "freq_plot(sensor_data, 'Sensor Value Frequency Bar Chart (Raw Data)')"
   ]
  },
  {
   "cell_type": "markdown",
   "id": "victorian-words",
   "metadata": {},
   "source": [
    "## Preparing Data\n",
    "\n",
    "You noticed some unexpected values in the sensor readings.  You sought out the sensor engineer for some clarification.  She tells you in no uncertain terms that the sensors are prototypes and you should expect errors.\n",
    "\n",
    "She explains that the maximum valid sensor value is 2000 and the minimum valid value is 1000.  She also explains some other types of sensor errors (described below) and her recommendation on handling the problem.\n",
    "\n",
    "Three types of sensor errors:\n",
    "1.  Sometimes the sensor is too slow to capture a reading.  Missing values are represented as sensor values of 0.  Drop these readings.  There is no way to estimate the true value in this case.\n",
    "2.  There is a sensor bug that sometimes reports the sensor value as a negative value rather than the true positive value.  Replace these valids with the absolute value (positive value) of the reading.\n",
    "3.  At extreme upper and lower ranges of valid sensor values, sensors may report values below minimum and above maximum.  Replace these values with the valid min or max, as appropriate."
   ]
  },
  {
   "cell_type": "markdown",
   "id": "electoral-burden",
   "metadata": {},
   "source": [
    "### <span style=\"color:red\">Task</span>\n",
    "\n",
    "* Write a Python function to correct the sensor errors as guided by the sensor engineer's recommendations.  This function will take as input the temperature list and the sensor list and return two new lists (i.e., the \"cleaned\" temperature and sensor lists).  Don't destroy your copies of the \"raw\" lists!\n",
    "* Produce \"clean\" lists by calling your \"preparation\" function on the original temperature and sensor data."
   ]
  },
  {
   "cell_type": "code",
   "execution_count": 61,
   "id": "ff550db3-2f6c-48ff-896d-ec2fa589965f",
   "metadata": {},
   "outputs": [],
   "source": [
    "def prep(s_list, t_list):\n",
    "    c_s_list = []\n",
    "    c_t_list = []\n",
    "    \n",
    "    for i in range(len(s_list)):\n",
    "        bad_value = False\n",
    "        values_added = False\n",
    "        value = s_list[i]\n",
    "        \n",
    "        if value == 0:\n",
    "            bad_value = True\n",
    "        \n",
    "        while not bad_value and not values_added:\n",
    "            # There is a sensor bug that sometimes records a negative value rather than the true positive value.\n",
    "            # Replace these values with the absolute value.\n",
    "            if value < 0:\n",
    "                value = abs(value)\n",
    "           \n",
    "            # At extreme upper and lower ranges of valid sensor values, sensors may report values below minimum and above maximum.\n",
    "            # Replace these values with the valid min or max, as appropriate\n",
    "            # Maximum valid sensor value is 2000\n",
    "            # Minimum valid sensor value is 1000\n",
    "            if value < 1000:\n",
    "                value = 1000\n",
    "                c_s_list.append(value)                \n",
    "            elif value > 2000:\n",
    "                value = 2000\n",
    "                c_s_list.append(value)\n",
    "            else:\n",
    "                c_s_list.append(value)\n",
    "                \n",
    "            # Append corresponding temperature value to the clean temperature data list    \n",
    "            c_t_list.append(t_list[i])\n",
    "            \n",
    "            values_added = True\n",
    "            \n",
    "            \n",
    "    return [c_s_list, c_t_list]"
   ]
  },
  {
   "cell_type": "code",
   "execution_count": 62,
   "id": "c952a6de-11e8-4b5f-9090-0799bd7f3c9a",
   "metadata": {},
   "outputs": [],
   "source": [
    "# Clean the data and store the cleaned data in new lists\n",
    "clean_sensor_data, clean_temperature_data = prep(sensor_data, temperature_data)"
   ]
  },
  {
   "cell_type": "markdown",
   "id": "brazilian-google",
   "metadata": {},
   "source": [
    "### <span style=\"color:red\">Task</span>\n",
    "\n",
    "* Run your \"descriptive statistics\" and \"frequency\" functions on your clean temperature and sensor lists and compare them to the \"raw\" results."
   ]
  },
  {
   "cell_type": "code",
   "execution_count": 63,
   "id": "98c956b1-b4f2-4a6e-9815-1a32ba172c88",
   "metadata": {},
   "outputs": [
    {
     "name": "stdout",
     "output_type": "stream",
     "text": [
      "The number of data points is 186.\n",
      "The minimum value in the data is 1000.\n",
      "The maximum value in the data is 2000.\n",
      "The mean of the data is 1488.33.\n",
      "The sum of the data is 276829.40.\n",
      "The mode of the data is 1000.\n",
      "The median of the data is 1456.8.\n",
      "The population standard deviation of the data is 331.57.\n"
     ]
    }
   ],
   "source": [
    "# Run descriptive statistics on the cleaned sensor data\n",
    "descriptive_stats(clean_sensor_data)"
   ]
  },
  {
   "cell_type": "code",
   "execution_count": 64,
   "id": "5bd75757-dd45-4871-af38-f2abe35f4b68",
   "metadata": {},
   "outputs": [
    {
     "name": "stdout",
     "output_type": "stream",
     "text": [
      "The number of data points is 186.\n",
      "The minimum value in the data is -20.\n",
      "The maximum value in the data is 30.\n",
      "The mean of the data is 5.49.\n",
      "The sum of the data is 1021.00.\n",
      "The mode of the data is 20.\n",
      "The median of the data is 4.5.\n",
      "The population standard deviation of the data is 14.89.\n"
     ]
    }
   ],
   "source": [
    "# Run descriptive statistics on the cleaned temperature data\n",
    "descriptive_stats(clean_temperature_data)"
   ]
  },
  {
   "cell_type": "markdown",
   "id": "indonesian-castle",
   "metadata": {},
   "source": [
    "### <span style=\"color:red\">Task</span>\n",
    "\n",
    "* Call your scatter plot function using your prepared data as input.\n",
    "* The titile for this plot should be \"Sensor by Temperature (Prepared Data)\"."
   ]
  },
  {
   "cell_type": "code",
   "execution_count": 65,
   "id": "74cc36ba-b148-4486-8493-b0ff162912df",
   "metadata": {},
   "outputs": [
    {
     "data": {
      "image/png": "[encoded data removed]",
      "text/plain": [
       "<Figure size 1200x800 with 1 Axes>"
      ]
     },
     "metadata": {
      "needs_background": "light"
     },
     "output_type": "display_data"
    }
   ],
   "source": [
    "# Call scatter plot function on prepared data\n",
    "scatter_plot(clean_temperature_data, clean_sensor_data, 'Sensor by Temperature (Prepared Data)')"
   ]
  },
  {
   "cell_type": "markdown",
   "id": "elementary-orchestra",
   "metadata": {},
   "source": [
    "## Model Building\n",
    "\n",
    "After looking at the sensor plots, you decide a linear regression model may do a good job fitting the data.  Now, you need to build the model.\n",
    "\n",
    "You may find it useful to refer to the \"regression_example\" notebook for hints in building this model."
   ]
  },
  {
   "cell_type": "markdown",
   "id": "accessory-hypothesis",
   "metadata": {},
   "source": [
    "### <span style=\"color:red\">Task</span>\n",
    "\n",
    "The scilearn-kit libraries require training data to be in a numpy \"array of arrays\".  See the referenced notebook above for hints on making that conversion.  \n",
    "\n",
    "* Create a \"training_X\" numpy array of arrays from your \"prepared\" temperature list.\n",
    "* Create a \"training_y\" numpy array of arrays from your \"prepared\" sensor list."
   ]
  },
  {
   "cell_type": "code",
   "execution_count": 66,
   "id": "392114c6-c423-45f6-9e01-67654921b2c9",
   "metadata": {},
   "outputs": [],
   "source": [
    "# Create a \"training_X\" numpy array of arrays from the prepared temperature data\n",
    "X = np.c_[clean_temperature_data]"
   ]
  },
  {
   "cell_type": "code",
   "execution_count": 67,
   "id": "f1737bd1-6fd5-46e9-aa6b-84d692b7b548",
   "metadata": {},
   "outputs": [],
   "source": [
    "# Create a \"training_y\" numpy array of arrays from the prepared temperature data\n",
    "Y = np.c_[clean_sensor_data]"
   ]
  },
  {
   "cell_type": "markdown",
   "id": "medieval-nirvana",
   "metadata": {},
   "source": [
    "### <span style=\"color:red\">Task</span>\n",
    "* Create a linear model object\n",
    "\n",
    "See the referenced notebook above for hints.  "
   ]
  },
  {
   "cell_type": "markdown",
   "id": "05ab15b0-78ec-4a3f-9d4e-0aa8e068d4b5",
   "metadata": {},
   "source": [
    "## Model Selection"
   ]
  },
  {
   "cell_type": "code",
   "execution_count": 68,
   "id": "55cbe8f3-0acc-403e-af43-5c7c7b08f7af",
   "metadata": {},
   "outputs": [],
   "source": [
    "# Create a linear model object\n",
    "model = sklearn.linear_model.LinearRegression()"
   ]
  },
  {
   "cell_type": "markdown",
   "id": "impressive-rapid",
   "metadata": {},
   "source": [
    "### <span style=\"color:red\">Task</span>\n",
    "* Train the linear model using your training temperature and sensor data.\n",
    "\n",
    "See the referenced notebook above for hints.  "
   ]
  },
  {
   "cell_type": "code",
   "execution_count": 69,
   "id": "f6b33175-6493-48c0-9a05-51c0b2267f8c",
   "metadata": {},
   "outputs": [
    {
     "data": {
      "text/plain": [
       "LinearRegression()"
      ]
     },
     "execution_count": 69,
     "metadata": {},
     "output_type": "execute_result"
    }
   ],
   "source": [
    "# Train the linear modeal using the training data\n",
    "model.fit(X, Y)"
   ]
  },
  {
   "cell_type": "markdown",
   "id": "brief-holmes",
   "metadata": {},
   "source": [
    "### <span style=\"color:red\">Task</span>\n",
    "* Print the equation for the resulting prediction line.\n",
    "\n",
    "See the referenced notebook above for hints.  "
   ]
  },
  {
   "cell_type": "markdown",
   "id": "3628a2ff-efa0-436e-8423-5c206c130ae5",
   "metadata": {},
   "source": [
    "### Examine our thetas"
   ]
  },
  {
   "cell_type": "code",
   "execution_count": 70,
   "id": "6936a023-1081-4de6-bca8-cd5fffddf470",
   "metadata": {},
   "outputs": [
    {
     "data": {
      "text/plain": [
       "(1413.9989483897027, 13.541229774255877)"
      ]
     },
     "execution_count": 70,
     "metadata": {},
     "output_type": "execute_result"
    }
   ],
   "source": [
    "# Show the computed parameters from the model \"fit\"\n",
    "t0, t1 = model.intercept_[0], model.coef_[0][0]\n",
    "t0, t1"
   ]
  },
  {
   "cell_type": "markdown",
   "id": "390cab5a-63c7-498d-8214-aeef9cfc12aa",
   "metadata": {},
   "source": [
    "# Print the equation for the resulting prediction line.\n",
    "\n",
    "### Sensor value = 1414 + 13.54 * temperature value"
   ]
  },
  {
   "cell_type": "markdown",
   "id": "neural-attachment",
   "metadata": {},
   "source": [
    "### <span style=\"color:red\">Task</span>\n",
    "* Print a scatter plot of the prepared data with the predicted line superimposed on the data.\n",
    "\n",
    "See the referenced notebook above for hints.  "
   ]
  },
  {
   "cell_type": "code",
   "execution_count": 71,
   "id": "095d4d68-fc37-4822-bb82-8ee4cf85d8cf",
   "metadata": {},
   "outputs": [
    {
     "data": {
      "image/png": "[encoded data removed]",
      "text/plain": [
       "<Figure size 1200x800 with 1 Axes>"
      ]
     },
     "metadata": {
      "needs_background": "light"
     },
     "output_type": "display_data"
    }
   ],
   "source": [
    "# plot the scatter plot of the sample data\n",
    "scatter_plot(clean_temperature_data, clean_sensor_data, 'Sensor by Temperature (Prepared Data)')\n",
    "\n",
    "# An array of arrays of 1000 numbers evenly spaced from -20 to 30\n",
    "X=np.linspace(-20, 30, 1000)\n",
    "\n",
    "# plot the predicted line\n",
    "plt.plot(X, t0 + t1*X, \"b\")\n",
    "\n",
    "# print the parameters of the model\n",
    "plt.text(0, 1360, f\"y = {t0:.2f} + {t1:.2f} * x\", fontsize=14, color=\"b\")\n",
    "\n",
    "plt.show()"
   ]
  },
  {
   "cell_type": "markdown",
   "id": "filled-facility",
   "metadata": {},
   "source": [
    "## Model Usage\n",
    "\n",
    "Feeling exceptionally brave, you decide to demonstrate the predictions of your model to the sensor engineer."
   ]
  },
  {
   "cell_type": "markdown",
   "id": "broadband-sequence",
   "metadata": {},
   "source": [
    "### <span style=\"color:red\">Task</span>\n",
    "* Demonstrate your predictor with a single input Celsius value of 5.\n",
    "* Demonstrate your predictor for the a list of input temperatures: -25, 5, 7, 12, 25\n",
    "\n",
    "Note that the input to the \"predict\" method requires a list of lists as input.  Also, the results are returned as list of lists.\n",
    "\n",
    "See the referenced notebook above for hints.  "
   ]
  },
  {
   "cell_type": "code",
   "execution_count": 72,
   "id": "b3df0156-756a-4601-8c45-d7d9848d5f1a",
   "metadata": {},
   "outputs": [
    {
     "name": "stdout",
     "output_type": "stream",
     "text": [
      "Test temperature = 5 degrees Celsius\n",
      "Predicted sensor value for 5 Celsius = 1481.71\n",
      "Test value of -25 yields a sensor value of 1075.47\n",
      "Test value of 5 yields a sensor value of 1481.71\n",
      "Test value of 7 yields a sensor value of 1508.79\n",
      "Test value of 12 yields a sensor value of 1576.49\n",
      "Test value of 25 yields a sensor value of 1752.53\n"
     ]
    }
   ],
   "source": [
    "# Demonstrate the predictore with a single input Celsius value of 5.\n",
    "test_temperature = [[5]]\n",
    "print(f\"Test temperature = {test_temperature[0][0]} degrees Celsius\")\n",
    "\n",
    "test_temperature_predicted_sensor_value = model.predict(test_temperature)[0][0]\n",
    "print(f\"Predicted sensor value for {test_temperature[0][0]} Celsius = {test_temperature_predicted_sensor_value:.2f}\")\n",
    "\n",
    "# Demonstrate your predictor for the a list of input temperatures: -25, 5, 7, 12, 25\n",
    "list_of_predictors = [[-25],[5],[7],[12],[25]]\n",
    "\n",
    "list_of_pred_predicted_sensor_values = model.predict(list_of_predictors)\n",
    "\n",
    "for i in range(len(list_of_predictors)):\n",
    "    print(f'Test value of {list_of_predictors[i][0]} yields a sensor value of {list_of_pred_predicted_sensor_values[i][0]:.2f}')"
   ]
  },
  {
   "cell_type": "markdown",
   "id": "exact-scholar",
   "metadata": {},
   "source": [
    "### \"Raw\" or \"Prepared\"?\n",
    "\n",
    "What would the predicted line have been without \"fixing\" the data at all?"
   ]
  },
  {
   "cell_type": "markdown",
   "id": "appreciated-damage",
   "metadata": {},
   "source": [
    "### <span style=\"color:red\">Task</span>\n",
    "* Build a new linear model using the \"raw\" data instead of the \"prepared\" data.\n",
    "* Print the equation for the \"raw\" prediction line.\n",
    "* Demonstrate this \"raw\" predictor with a single input Celsius value of 5.\n",
    "* Demonstrate this \"raw\" predictor for the a list of input temperatures: -25, 5, 7, 12, 25"
   ]
  },
  {
   "cell_type": "code",
   "execution_count": 73,
   "id": "079d81ae-b564-44d6-b913-fff0eafe13bc",
   "metadata": {},
   "outputs": [
    {
     "data": {
      "text/plain": [
       "(1096.0892104786897, 15.905157904262058)"
      ]
     },
     "execution_count": 73,
     "metadata": {},
     "output_type": "execute_result"
    }
   ],
   "source": [
    "# Build a new linear model using the \"raw\" data\n",
    "\n",
    "# Create a \"training_X\" numpy array of arrays from the prepared temperature data\n",
    "X = np.c_[temperature_data]\n",
    "\n",
    "# Create a \"training_y\" numpy array of arrays from the prepared temperature data\n",
    "Y = np.c_[sensor_data]\n",
    "\n",
    "# Create a linear model object\n",
    "raw_data_model = sklearn.linear_model.LinearRegression()\n",
    "\n",
    "# Train the linear modeal using the training data\n",
    "model.fit(X, Y)\n",
    "\n",
    "# Show the computed parameters from the model \"fit\"\n",
    "t0, t1 = model.intercept_[0], model.coef_[0][0]\n",
    "t0, t1 "
   ]
  },
  {
   "cell_type": "code",
   "execution_count": 74,
   "id": "3fc48135-fe7c-455c-a4c2-060f7ddf5802",
   "metadata": {},
   "outputs": [
    {
     "name": "stdout",
     "output_type": "stream",
     "text": [
      "sensor value = 1096.09 + 15.91 * temperature value\n"
     ]
    }
   ],
   "source": [
    "# Print the equation for the \"raw\" prediction line\n",
    "print(f'sensor value = {t0:.2f} + {t1:.2f} * temperature value')"
   ]
  },
  {
   "cell_type": "code",
   "execution_count": 75,
   "id": "65fefbfc-9394-4031-af42-44d957cf35f4",
   "metadata": {},
   "outputs": [
    {
     "name": "stdout",
     "output_type": "stream",
     "text": [
      "Predicted sensor value for 5 Celsius = 1175.62\n"
     ]
    }
   ],
   "source": [
    "# demonstrate this \"raw\" predictor with a single input Celsius value of 5.\n",
    "test_temperature_predicted_sensor_value = model.predict(test_temperature)[0][0]\n",
    "print(f\"Predicted sensor value for {test_temperature[0][0]} Celsius = {test_temperature_predicted_sensor_value:.2f}\")"
   ]
  },
  {
   "cell_type": "code",
   "execution_count": 76,
   "id": "345ce930-ada2-47bd-bf71-64b6b099a3a4",
   "metadata": {},
   "outputs": [
    {
     "name": "stdout",
     "output_type": "stream",
     "text": [
      "Test value of -25 yields a sensor value of 698.46\n",
      "Test value of 5 yields a sensor value of 1175.62\n",
      "Test value of 7 yields a sensor value of 1207.43\n",
      "Test value of 12 yields a sensor value of 1286.95\n",
      "Test value of 25 yields a sensor value of 1493.72\n"
     ]
    }
   ],
   "source": [
    "# demonstrate this \"raw\" predictor for the list of input temperatures: -25, 5, 7, 12, 25\n",
    "list_of_pred_predicted_sensor_values = model.predict(list_of_predictors)\n",
    "\n",
    "for i in range(len(list_of_predictors)):\n",
    "    print(f'Test value of {list_of_predictors[i][0]} yields a sensor value of {list_of_pred_predicted_sensor_values[i][0]:.2f}')"
   ]
  },
  {
   "cell_type": "markdown",
   "id": "sticky-parks",
   "metadata": {},
   "source": [
    "### <span style=\"color:red\">Task</span>\n",
    "* Plot your \"raw\" predictor line against the \"raw\" data scatter plot."
   ]
  },
  {
   "cell_type": "code",
   "execution_count": 77,
   "id": "7548e16b-34ce-433f-a93e-f772e619628f",
   "metadata": {},
   "outputs": [
    {
     "data": {
      "image/png": "[encoded data removed]",
      "text/plain": [
       "<Figure size 1200x800 with 1 Axes>"
      ]
     },
     "metadata": {
      "needs_background": "light"
     },
     "output_type": "display_data"
    }
   ],
   "source": [
    "# plot the \"raw\" predictor line against the \"raw\" data scatter plot\n",
    "# plot the scatter plot of the sample data\n",
    "scatter_plot(temperature_data, sensor_data, 'Sensor by Temperature (Raw Data)')\n",
    "\n",
    "# An array of arrays of 1000 numbers evenly spaced from -20 to 30\n",
    "X=np.linspace(-20, 30, 1000)\n",
    "\n",
    "# plot the predicted line\n",
    "plt.plot(X, t0 + t1*X, \"b\")\n",
    "\n",
    "# print the parameters of the model\n",
    "plt.text(6, 800, f\"y = {t0:.2f} + {t1:.2f} * x\", fontsize=14, color=\"b\")\n",
    "\n",
    "plt.show()"
   ]
  },
  {
   "cell_type": "markdown",
   "id": "foster-athletics",
   "metadata": {},
   "source": [
    "## Results\n",
    "\n",
    "You need to report your results to the sensor engineer.  Most of your results are captured in the results above, but there is potentially more to do.\n"
   ]
  },
  {
   "cell_type": "markdown",
   "id": "resident-hearts",
   "metadata": {},
   "source": [
    "### <span style=\"color:red\">Task</span>\n",
    "\n",
    "* How does the \"prepared\" predictor compare with the \"raw\" predictor?  Is one better than the other?  If so, why?\n",
    "* What do you suggest that you and the sensor engineer do to assess the quality of the predictions, perhaps including further actions to take?"
   ]
  },
  {
   "cell_type": "markdown",
   "id": "19749017-9b75-4384-8beb-57c8218ff301",
   "metadata": {},
   "source": [
    "As can be seen from the graphs and data above, the \"raw\" predictor gives us results which are too low. This is due to the 0s and negative sensor values contained in the original data. So, the \"prepared\" predictor gives us a better prediction. "
   ]
  }
 ],
 "metadata": {
  "kernelspec": {
   "display_name": "Python 3",
   "language": "python",
   "name": "python3"
  },
  "language_info": {
   "codemirror_mode": {
    "name": "ipython",
    "version": 3
   },
   "file_extension": ".py",
   "mimetype": "text/x-python",
   "name": "python",
   "nbconvert_exporter": "python",
   "pygments_lexer": "ipython3",
   "version": "3.8.11"
  }
 },
 "nbformat": 4,
 "nbformat_minor": 5
}
